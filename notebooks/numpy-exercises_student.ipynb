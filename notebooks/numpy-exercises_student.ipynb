{
 "cells": [
  {
   "cell_type": "markdown",
   "metadata": {},
   "source": [
    "### Exercícios NumPy"
   ]
  },
  {
   "cell_type": "code",
   "execution_count": 64,
   "metadata": {},
   "outputs": [],
   "source": [
    "import numpy as np"
   ]
  },
  {
   "cell_type": "markdown",
   "metadata": {},
   "source": [
    "**1.** Crie um array com 6 elementos em que os elementos possuem o padrão a seguir: \n",
    "\n",
    "```\n",
    "[0 2 4 6 8 10]\n",
    "```"
   ]
  },
  {
   "cell_type": "code",
   "execution_count": 21,
   "metadata": {},
   "outputs": [
    {
     "name": "stdout",
     "output_type": "stream",
     "text": [
      "[ 0  2  4  6  8 10]\n"
     ]
    }
   ],
   "source": [
    "##################\n",
    "# YOUR CODE HERE.#\n",
    "##################"
   ]
  },
  {
   "cell_type": "markdown",
   "metadata": {},
   "source": [
    "**2.** Crie um array $3 \\times 4$ com o seguinte padrão:\n",
    "\n",
    "```\n",
    "[[  0   1   4   9]\n",
    " [ 16  25  36  49]\n",
    " [ 64  81 100 121]]\n",
    " ```"
   ]
  },
  {
   "cell_type": "code",
   "execution_count": 29,
   "metadata": {},
   "outputs": [
    {
     "name": "stdout",
     "output_type": "stream",
     "text": [
      "[[  0   1   4   9]\n",
      " [ 16  25  36  49]\n",
      " [ 64  81 100 121]]\n"
     ]
    }
   ],
   "source": [
    "##################\n",
    "# YOUR CODE HERE.#\n",
    "##################"
   ]
  },
  {
   "cell_type": "markdown",
   "metadata": {},
   "source": [
    "**3.** Crie um array $7\\times7$ no qual todos os elementos têm valor 0, exceto os da linha 3 e da coluna 3, que têm valor 1, como a seguir:\n",
    "\n",
    "```\n",
    "[[0 0 0 1 0 0 0]\n",
    " [0 0 0 1 0 0 0]\n",
    " [0 0 0 1 0 0 0]\n",
    " [1 1 1 1 1 1 1]\n",
    " [0 0 0 1 0 0 0]\n",
    " [0 0 0 1 0 0 0]\n",
    " [0 0 0 1 0 0 0]]\n",
    "```"
   ]
  },
  {
   "cell_type": "code",
   "execution_count": 30,
   "metadata": {},
   "outputs": [
    {
     "name": "stdout",
     "output_type": "stream",
     "text": [
      "[[0 0 0 1 0 0 0]\n",
      " [0 0 0 1 0 0 0]\n",
      " [0 0 0 1 0 0 0]\n",
      " [1 1 1 1 1 1 1]\n",
      " [0 0 0 1 0 0 0]\n",
      " [0 0 0 1 0 0 0]\n",
      " [0 0 0 1 0 0 0]]\n"
     ]
    }
   ],
   "source": [
    "##################\n",
    "# YOUR CODE HERE.#\n",
    "##################"
   ]
  },
  {
   "cell_type": "markdown",
   "metadata": {},
   "source": [
    "**4.** Crie um array $5 \\times 5$ com o seguinte padrão:\n",
    "\n",
    "```\n",
    "[[10  0  0  0  0]\n",
    " [ 0 10  0  0  0]\n",
    " [ 0  0 10  0  0]\n",
    " [ 0  0  0 10  0]\n",
    " [ 0  0  0  0 10]]\n",
    "```"
   ]
  },
  {
   "cell_type": "code",
   "execution_count": 65,
   "metadata": {},
   "outputs": [
    {
     "name": "stdout",
     "output_type": "stream",
     "text": [
      "[[10  0  0  0  0]\n",
      " [ 0 10  0  0  0]\n",
      " [ 0  0 10  0  0]\n",
      " [ 0  0  0 10  0]\n",
      " [ 0  0  0  0 10]]\n"
     ]
    }
   ],
   "source": [
    "##################\n",
    "# YOUR CODE HERE.#\n",
    "##################"
   ]
  },
  {
   "cell_type": "markdown",
   "metadata": {},
   "source": [
    "**5.** Crie um array $5 \\times 5$ com o seguinte padrão:\n",
    "\n",
    "```\n",
    "[[ 1  0  0  0  0]\n",
    " [ 0  4  0  0  0]\n",
    " [ 0  0  9  0  0]\n",
    " [ 0  0  0 16  0]\n",
    " [ 0  0  0  0 25]]\n",
    "```\n",
    "\n",
    "Utilize as funções `np.diag` e `np.arange`."
   ]
  },
  {
   "cell_type": "code",
   "execution_count": 70,
   "metadata": {},
   "outputs": [
    {
     "name": "stdout",
     "output_type": "stream",
     "text": [
      "[[ 1  0  0  0  0]\n",
      " [ 0  4  0  0  0]\n",
      " [ 0  0  9  0  0]\n",
      " [ 0  0  0 16  0]\n",
      " [ 0  0  0  0 25]]\n"
     ]
    }
   ],
   "source": [
    "##################\n",
    "# YOUR CODE HERE.#\n",
    "##################"
   ]
  },
  {
   "cell_type": "markdown",
   "metadata": {},
   "source": [
    "**6.** Crie um array $3\\times2\\times4$ onde o elemento de índice $(i, j, k)$ tem valor $i^2$ para qualquer $j, k$, como abaixo:\n",
    "\n",
    "```\n",
    "[[[0 0 0 0]\n",
    "  [0 0 0 0]]\n",
    "\n",
    " [[1 1 1 1]\n",
    "  [1 1 1 1]]\n",
    "\n",
    " [[4 4 4 4]\n",
    "  [4 4 4 4]]]\n",
    "```\n",
    "\n",
    "Dica: utilize a função `np.indices`."
   ]
  },
  {
   "cell_type": "code",
   "execution_count": 32,
   "metadata": {},
   "outputs": [
    {
     "name": "stdout",
     "output_type": "stream",
     "text": [
      "[[[0 0 0 0]\n",
      "  [0 0 0 0]]\n",
      "\n",
      " [[1 1 1 1]\n",
      "  [1 1 1 1]]\n",
      "\n",
      " [[4 4 4 4]\n",
      "  [4 4 4 4]]]\n"
     ]
    }
   ],
   "source": [
    "##################\n",
    "# YOUR CODE HERE.#\n",
    "##################"
   ]
  },
  {
   "cell_type": "markdown",
   "metadata": {},
   "source": [
    "**7.** Crie um array $5\\times5$ onde o elemento de índice $(i,j)$ tem valor $i^2 + j^2$.\n",
    "\n",
    "Dica: utilize a função `np.indices`."
   ]
  },
  {
   "cell_type": "code",
   "execution_count": 72,
   "metadata": {},
   "outputs": [
    {
     "name": "stdout",
     "output_type": "stream",
     "text": [
      "[[ 0  1  4  9 16]\n",
      " [ 1  2  5 10 17]\n",
      " [ 4  5  8 13 20]\n",
      " [ 9 10 13 18 25]\n",
      " [16 17 20 25 32]]\n"
     ]
    }
   ],
   "source": [
    "##################\n",
    "# YOUR CODE HERE.#\n",
    "##################"
   ]
  },
  {
   "cell_type": "markdown",
   "metadata": {},
   "source": [
    "**8.** Gere uma matriz $10\\times10$ de números aleatórios com distribuição normal de média 0 e desvio padrão 1. Calcule o *máximo* valor em cada linha e o *mínimo* valor em cada coluna.\n",
    "\n",
    "Dica: utilize a função `np.randn`."
   ]
  },
  {
   "cell_type": "code",
   "execution_count": 45,
   "metadata": {},
   "outputs": [
    {
     "name": "stdout",
     "output_type": "stream",
     "text": [
      "[1.54475874 1.32678088 1.34767753 1.20799757 1.97300465 2.56025928\n",
      " 1.77394772 2.35946923 1.68157359 0.27578482]\n",
      "[-1.28599596 -2.03253366 -1.93264582 -0.70177924 -2.88867232 -1.63482674\n",
      " -0.46286222 -2.13983684 -2.70500077 -0.55829481]\n"
     ]
    }
   ],
   "source": [
    "##################\n",
    "# YOUR CODE HERE.#\n",
    "##################"
   ]
  },
  {
   "cell_type": "markdown",
   "metadata": {},
   "source": [
    "**9.** Gere uma matriz $X \\in \\mathbb{R}^{5\\times5}$ de números aleatórios com distribuição normal de média 1 e desvio padrão 3, isto é, $X \\sim \\text{N}(1, 3)$. Depois gere uma matriz $Y$ de mesmo formato cujo elemento $(i,j)$ terá valor $1$ se o elemento $(i,j)$ da matriz aleatória for menor que -5 ou maior do que 7, e zero caso contrário.\n",
    "Conte o número de valores diferentes de zero nessa nova matriz.\n",
    "\n",
    "Dica: se $X \\sim \\text{N}(0, 1)$, então $(\\sigma \\cdot X + \\mu) \\sim \\text{N}(\\mu, \\sigma)$."
   ]
  },
  {
   "cell_type": "code",
   "execution_count": 75,
   "metadata": {},
   "outputs": [
    {
     "name": "stdout",
     "output_type": "stream",
     "text": [
      "[[-1.2772413   1.960622    3.83399806 -5.80812249  2.20111944]\n",
      " [-0.49420151 -3.26140988  8.04816353  0.83190964  2.26603519]\n",
      " [ 1.51355284  2.3337053   2.70260824  1.36163964 -0.68243152]\n",
      " [-0.34654622 -0.54958628 -8.67877437  5.08279659  3.51506004]\n",
      " [ 1.91338874  0.69943562  5.03726642  6.21935541 -4.12525651]]\n",
      "[[0. 0. 0. 1. 0.]\n",
      " [0. 0. 1. 0. 0.]\n",
      " [0. 0. 0. 0. 0.]\n",
      " [0. 0. 1. 0. 0.]\n",
      " [0. 0. 0. 0. 0.]]\n"
     ]
    }
   ],
   "source": [
    "##################\n",
    "# YOUR CODE HERE.#\n",
    "##################"
   ]
  },
  {
   "cell_type": "markdown",
   "metadata": {},
   "source": [
    "**10.** Use as regras de *broadcast* em seu benefício para gerar uma matriz $5\\times5$ cujos elementos $(i,j)$ têm valor $i$. Faça o mesmo para gerar uma outra matriz de mesmo tamanho cujos elementos $(i,j)$ tenham valor $j$. Por fim, combine isso para gerar uma matriz também $5\\times5$ cujos elementos $(i,j)$ tenham valor $2 i - j$.\n",
    "\n",
    "Atenção: não utilizar `np.indices`.\n",
    "Dica: utilizar soma com matriz de zeros com dimensões $10\\times10$"
   ]
  },
  {
   "cell_type": "code",
   "execution_count": 76,
   "metadata": {},
   "outputs": [
    {
     "name": "stdout",
     "output_type": "stream",
     "text": [
      "[[0. 0. 0. 0. 0.]\n",
      " [1. 1. 1. 1. 1.]\n",
      " [2. 2. 2. 2. 2.]\n",
      " [3. 3. 3. 3. 3.]\n",
      " [4. 4. 4. 4. 4.]]\n",
      "[[0. 1. 2. 3. 4.]\n",
      " [0. 1. 2. 3. 4.]\n",
      " [0. 1. 2. 3. 4.]\n",
      " [0. 1. 2. 3. 4.]\n",
      " [0. 1. 2. 3. 4.]]\n",
      "[[ 0. -1. -2. -3. -4.]\n",
      " [ 2.  1.  0. -1. -2.]\n",
      " [ 4.  3.  2.  1.  0.]\n",
      " [ 6.  5.  4.  3.  2.]\n",
      " [ 8.  7.  6.  5.  4.]]\n"
     ]
    }
   ],
   "source": [
    "##################\n",
    "# YOUR CODE HERE.#\n",
    "##################"
   ]
  },
  {
   "cell_type": "markdown",
   "metadata": {},
   "source": [
    "**11.** Considere a matriz\n",
    "\n",
    "$\n",
    "X = \\begin{bmatrix}\n",
    "  9 & 3 & 8 \\\\\n",
    "  7 & 4 & 5 \\\\\n",
    "  2 & 3 & 1 \\\\\n",
    "  2 & 10 & 9 \\\\\n",
    "  8 & 9 & 2 \\\\\n",
    "\\end{bmatrix}.\n",
    "$\n",
    "\n",
    "Calcule $X_{shifted} = X - \\mu$, onde $\\mu$ é a média das linhas de $X$. Explore a funcionalidade de broadcasting e não utilize loops.\n"
   ]
  },
  {
   "cell_type": "code",
   "execution_count": 8,
   "metadata": {},
   "outputs": [
    {
     "name": "stdout",
     "output_type": "stream",
     "text": [
      "Your function is correct.\n"
     ]
    }
   ],
   "source": [
    "X = np.array([[9, 3, 8], [7, 4, 5], [2, 3, 1], [2, 10, 9], [8, 9, 2]])\n",
    "X_shifted = np.zeros(X.shape[1])  # change X_shifted bellow\n",
    "\n",
    "##################\n",
    "# YOUR CODE HERE.#\n",
    "##################\n",
    "\n",
    "ans = np.array([[3.4, -2.8, 3.0], [1.4, -1.8, 0.0], [-3.6, -2.8, -4.0], [-3.6, 4.2, 4.0], [2.4, 3.2, -3.0]])\n",
    "are_equal = np.allclose(X_shifted, ans, atol=1e-5)\n",
    "if are_equal:\n",
    "    print(\"Your function is correct.\")\n",
    "else:\n",
    "    print(\"Your function is not correct.\")"
   ]
  },
  {
   "cell_type": "markdown",
   "metadata": {},
   "source": [
    "**12.** A distância euclidiana entre dois vetores $u$ e $v$ de tamanho $n$ é dada por $\\left\\|u - v\\right\\|_2 = \\sqrt{\\sum_{i=1}^{n}(u_i - v_i)^2}.$\n",
    "\n",
    "Dado os vetores (1-D arrays) a seguir, complete a função `euclidean_distance` para cálculo da distância. Não utilize loops, nem a função `np.linalg.norm`."
   ]
  },
  {
   "cell_type": "code",
   "execution_count": 61,
   "metadata": {},
   "outputs": [
    {
     "name": "stdout",
     "output_type": "stream",
     "text": [
      "Your function is not correct.\n"
     ]
    }
   ],
   "source": [
    "def euclidean_distance(u, v):\n",
    "    distances = 0\n",
    "    ##################\n",
    "    # YOUR CODE HERE.#\n",
    "    ##################\n",
    "    return distances\n",
    "\n",
    "\n",
    "array1 = np.array([1, 2, 3])\n",
    "array2 = np.array([4, 5, 6])\n",
    "\n",
    "distances = euclidean_distance(array1, array2)\n",
    "are_equal = np.allclose(distances, np.linalg.norm(array1 - array2), atol=1e-5)\n",
    "if are_equal:\n",
    "    print(\"Your function is correct.\")\n",
    "else:\n",
    "    print(\"Your function is not correct.\")"
   ]
  },
  {
   "cell_type": "markdown",
   "metadata": {},
   "source": [
    "**13.** Considere duas matrizes $X$ e $Y$, onde cada linha representa um vetor. Você foi solicitado a calcular a distância euclidiana entre as linhas de $X$ e as linhas correspondentes de $Y$. Escreva uma função que recebe as matrizes $X$ e $Y$ como entrada e retorna uma matriz $D$ onde cada elemento $(i,j)$ representa a distância euclidiana entre a linha $i$ de $X$ ($X_i$) e a linha $j$ de $Y$ ($Y_j$). O cálculo deve ser feito por meio de dois loops, conforme a equação\n",
    "\n",
    "$D_{ij} = \\left \\|X_i - Y_j \\right \\|_2$"
   ]
  },
  {
   "cell_type": "code",
   "execution_count": 14,
   "metadata": {},
   "outputs": [
    {
     "name": "stdout",
     "output_type": "stream",
     "text": [
      "Your function is not correct.\n"
     ]
    }
   ],
   "source": [
    "from scipy.spatial.distance import cdist\n",
    "\n",
    "\n",
    "def calculate_distances_two_loops(X, Y):\n",
    "    distances = np.zeros((X.shape[0], Y.shape[0]))\n",
    "    ##################\n",
    "    # YOUR CODE HERE.#\n",
    "    ##################\n",
    "    return distances\n",
    "\n",
    "\n",
    "X = np.array([[1, 2, 3], [4, 5, 6], [7, 8, 9], [10, 11, 12], [13, 14, 15]])\n",
    "Y = np.array([[16, 17, 18], [19, 20, 21]])\n",
    "\n",
    "distances = calculate_distances_two_loops(X, Y)\n",
    "are_equal = np.allclose(distances, cdist(X, Y), atol=1e-5)\n",
    "if are_equal:\n",
    "    print(\"Your function is correct.\")\n",
    "else:\n",
    "    print(\"Your function is not correct.\")"
   ]
  },
  {
   "cell_type": "markdown",
   "metadata": {},
   "source": [
    "**14.** O mesmo da questão anterior, mas agora utilizando um loop e broadcasting.\n",
    "\n",
    "Dica: verifique se o resultado de `X[i] - Y` pode lhe ser útil na solução do exercício."
   ]
  },
  {
   "cell_type": "code",
   "execution_count": 15,
   "metadata": {},
   "outputs": [
    {
     "name": "stdout",
     "output_type": "stream",
     "text": [
      "[[ -9  -9  -9]\n",
      " [-12 -12 -12]]\n"
     ]
    }
   ],
   "source": [
    "# Create two 1D numpy array\n",
    "X = np.array([[1, 2, 3], [4, 5, 6], [7, 8, 9], [10, 11, 12], [13, 14, 15]])\n",
    "Y = np.array([[16, 17, 18], [19, 20, 21]])\n",
    "\n",
    "i = 2\n",
    "print(X[i] - Y)"
   ]
  },
  {
   "cell_type": "code",
   "execution_count": 16,
   "metadata": {},
   "outputs": [
    {
     "name": "stdout",
     "output_type": "stream",
     "text": [
      "Your function is not correct.\n"
     ]
    }
   ],
   "source": [
    "def calculate_distances_one_loop(X, Y):\n",
    "    distances = np.zeros((X.shape[0], Y.shape[0]))\n",
    "    ##################\n",
    "    # YOUR CODE HERE.#\n",
    "    ##################\n",
    "    return distances\n",
    "\n",
    "\n",
    "distances = calculate_distances_one_loop(X, Y)\n",
    "are_equal = np.allclose(distances, cdist(X, Y), atol=1e-5)\n",
    "if are_equal:\n",
    "    print(\"Your function is correct.\")\n",
    "else:\n",
    "    print(\"Your function is not correct.\")"
   ]
  },
  {
   "cell_type": "markdown",
   "metadata": {},
   "source": [
    "**15.** O mesmo da questão anterior, mas agora - você que é um mago do broadcasting - não pode utilizar loops.\n",
    "\n",
    "Dica: verifique se o resultado de `X[:, np.newaxis, :] - Y` pode lhe ser útil na solução do exercício. "
   ]
  },
  {
   "cell_type": "code",
   "execution_count": 17,
   "metadata": {},
   "outputs": [
    {
     "name": "stdout",
     "output_type": "stream",
     "text": [
      "[[[-15 -15 -15]\n",
      "  [-18 -18 -18]]\n",
      "\n",
      " [[-12 -12 -12]\n",
      "  [-15 -15 -15]]\n",
      "\n",
      " [[ -9  -9  -9]\n",
      "  [-12 -12 -12]]\n",
      "\n",
      " [[ -6  -6  -6]\n",
      "  [ -9  -9  -9]]\n",
      "\n",
      " [[ -3  -3  -3]\n",
      "  [ -6  -6  -6]]]\n"
     ]
    }
   ],
   "source": [
    "# Create two 1D numpy array\n",
    "X = np.array([[1, 2, 3], [4, 5, 6], [7, 8, 9], [10, 11, 12], [13, 14, 15]])\n",
    "Y = np.array([[16, 17, 18], [19, 20, 21]])\n",
    "\n",
    "print(X[:, np.newaxis, :] - Y)"
   ]
  },
  {
   "cell_type": "code",
   "execution_count": 18,
   "metadata": {},
   "outputs": [
    {
     "name": "stdout",
     "output_type": "stream",
     "text": [
      "Your function is not correct.\n"
     ]
    }
   ],
   "source": [
    "def calculate_distances_vectorized(X, Y):\n",
    "    distances = np.zeros((X.shape[0], Y.shape[0]))\n",
    "    ##################\n",
    "    # YOUR CODE HERE.#\n",
    "    ##################\n",
    "    return distances\n",
    "\n",
    "\n",
    "distances = calculate_distances_one_loop(X, Y)\n",
    "are_equal = np.allclose(distances, cdist(X, Y), atol=1e-5)\n",
    "if are_equal:\n",
    "    print(\"Your function is correct.\")\n",
    "else:\n",
    "    print(\"Your function is not correct.\")"
   ]
  }
 ],
 "metadata": {
  "kernelspec": {
   "display_name": "Python 3",
   "language": "python",
   "name": "python3"
  },
  "language_info": {
   "codemirror_mode": {
    "name": "ipython",
    "version": 3
   },
   "file_extension": ".py",
   "mimetype": "text/x-python",
   "name": "python",
   "nbconvert_exporter": "python",
   "pygments_lexer": "ipython3",
   "version": "3.8.10"
  }
 },
 "nbformat": 4,
 "nbformat_minor": 4
}
