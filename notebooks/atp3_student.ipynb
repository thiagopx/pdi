{
 "cells": [
  {
   "cell_type": "code",
   "execution_count": 1,
   "metadata": {},
   "outputs": [],
   "source": [
    "%load_ext autoreload\n",
    "%autoreload 2"
   ]
  },
  {
   "cell_type": "markdown",
   "metadata": {},
   "source": [
    "# Avaliação teórico-prática 3 (ATP3)\n",
    "\n",
    "*Para questões discursivas, você pode escrever em formato Markdown/LaTeX ou, preferencialmente, incluir uma fotografia da solução do exercício.*"
   ]
  },
  {
   "cell_type": "markdown",
   "metadata": {},
   "source": [
    "___\n",
    "**1.** **(2 pontos)** Pesquise sobre e forneça a motivação para o de números complexos na formulação da Transformada de Fourier. \n",
    "___"
   ]
  },
  {
   "cell_type": "markdown",
   "metadata": {},
   "source": [
    "[*Resposta aqui*]\n",
    "\n",
    "..."
   ]
  },
  {
   "cell_type": "markdown",
   "metadata": {},
   "source": [
    "___\n",
    "**2.** **(3 pontos)** Explique, com suas palavras, o Teorema da Convolução e sua importância no contexto de processamento de sinais.\n",
    "___"
   ]
  },
  {
   "cell_type": "markdown",
   "metadata": {},
   "source": [
    "[*Resposta aqui*]\n",
    "\n",
    "..."
   ]
  },
  {
   "cell_type": "markdown",
   "metadata": {},
   "source": [
    "___\n",
    "**3.** **(10 pontos)** O objetivo desta atividade é implementar um filtro Notch para remover ruído periódico de imagens. O processo será dividido em quatro passos:\n",
    "\n",
    "1. Analisar o espectro de Fourier $F$ da imagem.\n",
    "2. Identificar as localizações dos picos em $F$.\n",
    "3. Construir um filtro notch de rejeição $H$ no domínio de Fourier, cujos centros estão nos picos.\n",
    "4. Utilizar $H$ para filtrar $F$ e obter o resultado.\n",
    "\n",
    "Para cada centro $(u,v)$, utilize filtros de Butterworh ($H_b$), cuja definição é\n",
    "\n",
    "$$H_b(u,v) = \\frac{1}{1+[D_0/D(u,v)]^{2n}},$$\n",
    "\n",
    "onde $n$ é a ordem do filtro e $D_0$ o parâmetro que controla a abertura do filtro (*cut-off distance*).\n",
    "\n",
    "Para cumprir esta tarefa, você deve utilizar uma imagem de teste corrompida com ruído periódico em diversas frequências. Além disso, você deve implementar a função `apply_notch_filter`.\n",
    "\n",
    "___"
   ]
  },
  {
   "cell_type": "code",
   "execution_count": 3,
   "metadata": {},
   "outputs": [],
   "source": [
    "%matplotlib tk\n",
    "import numpy as np\n",
    "import matplotlib.pyplot as plt\n",
    "from skimage import data\n",
    "from scipy.fft import fft2, fftshift\n",
    "\n",
    "def spectrum(image):\n",
    "    # Compute the Fourier transform\n",
    "    f_uv = fftshift(fft2(image))\n",
    "    # Compute the spectrum and apply log scaling\n",
    "    spec = np.log(np.abs(f_uv) + 1)\n",
    "    return spec\n",
    "\n",
    "def apply_notch_filter(image, centers):\n",
    "    # Create an empty 'output' image with the same dimensions as the 'image' input.\n",
    "    output = image.copy()\n",
    "        \n",
    "    ########################################################\n",
    "    # YOUR FILTERING CODE GOES HERE.                        #\n",
    "    # IMPORTANT: Do Not Modify Above or Below This Section #\n",
    "    ########################################################\n",
    "\n",
    "    return output\n",
    "\n",
    "def onclick(event):\n",
    "    # Check whether one clicked inside the spectrum plot\n",
    "    if event.inaxes in [axs[1]]:\n",
    "        x, y = event.xdata, event.ydata\n",
    "        if x is not None and y is not None:\n",
    "            # Update notch_centers\n",
    "            h, w = test_image.shape\n",
    "            notch_centers.append((int(x), int(y)))\n",
    "            notch_centers.append((w-x, h-y))\n",
    "            \n",
    "            # Perform filtering based on the clicked position and the 'image'.\n",
    "            filtered = apply_notch_filter(test_image, notch_centers)\n",
    "\n",
    "            # Update the displayed image with the filtered result.\n",
    "            img_plot.set_data(filtered)\n",
    "\n",
    "            # Show notch centers\n",
    "            axs[1].scatter(*zip(*notch_centers), marker=\"o\", color=\"red\")\n",
    "\n",
    "            plt.draw()\n",
    "\n",
    "\n",
    "notch_centers = []\n",
    "\n",
    "# Load a test image: REPLACE THIS IMAGE WITH ONE CORRUPTED BY PERIODIC NOISE\n",
    "test_image = data.brain()[0]\n",
    "\n",
    "# Create a figure with two subplots for the image and its spectrum\n",
    "fig, axs = plt.subplots(1, 2, figsize=(10, 20))\n",
    "img_plot = axs[0].imshow(test_image, cmap=\"gray\")\n",
    "spec_plot = axs[1].imshow(spectrum(test_image), cmap=\"gray\")\n",
    "\n",
    "# Connect the click event to the 'onclick' function, passing the image and plot.\n",
    "cid = fig.canvas.mpl_connect(\"button_press_event\", onclick)"
   ]
  }
 ],
 "metadata": {
  "kernelspec": {
   "display_name": "Python 3 (ipykernel)",
   "language": "python",
   "name": "python3"
  },
  "language_info": {
   "codemirror_mode": {
    "name": "ipython",
    "version": 3
   },
   "file_extension": ".py",
   "mimetype": "text/x-python",
   "name": "python",
   "nbconvert_exporter": "python",
   "pygments_lexer": "ipython3",
   "version": "3.10.12"
  },
  "orig_nbformat": 4
 },
 "nbformat": 4,
 "nbformat_minor": 2
}
