{
 "cells": [
  {
   "cell_type": "code",
   "execution_count": 1,
   "metadata": {},
   "outputs": [],
   "source": [
    "%load_ext autoreload\n",
    "%autoreload 2"
   ]
  },
  {
   "cell_type": "markdown",
   "metadata": {},
   "source": [
    "# Avaliação teórico-prática 4 (ATP4)\n",
    "\n",
    "*Para questões discursivas, você pode escrever em formato Markdown/LaTeX ou, preferencialmente, incluir uma fotografia da solução do exercício.*"
   ]
  },
  {
   "cell_type": "markdown",
   "metadata": {},
   "source": [
    "___\n",
    "**1.** **(2 pontos)** Pesquise sobre e forneça a motivação para o de números complexos na formulação da Transformada de Fourier. \n",
    "___"
   ]
  },
  {
   "cell_type": "markdown",
   "metadata": {},
   "source": [
    "[*Resposta aqui*]\n",
    "\n",
    "..."
   ]
  },
  {
   "cell_type": "markdown",
   "metadata": {},
   "source": [
    "___\n",
    "**2.** **(3 pontos)** Explique, com suas palavras, o Teorema da Convolução e sua importância no contexto de processamento de sinais.\n",
    "___"
   ]
  },
  {
   "cell_type": "markdown",
   "metadata": {},
   "source": [
    "[*Resposta aqui*]\n",
    "\n",
    "..."
   ]
  },
  {
   "cell_type": "markdown",
   "metadata": {},
   "source": [
    "___\n",
    "**4.** **(5 pontos)** Na disciplina de Morfologia Matemática, os operadores de dilatação e erosão são considerados duais em relação aos conjuntos complementares e à reflexão:\n",
    "\n",
    "$(A \\ominus B)^C = A^C \\oplus \\hat{B}$\n",
    "\n",
    "$(A \\oplus B)^C = A^C \\ominus \\hat{B}$\n",
    "\n",
    "Estas equações representam o princípio da dualidade na Morfologia Matemática. Sua tarefa nesta questão é demonstrar empiricamente a validade deste princípio. Para isso, você deve escrever um código Python que implemente estas operações e verifique se as igualdades acima são verdadeiras.\n",
    "___\n"
   ]
  },
  {
   "cell_type": "code",
   "execution_count": 1,
   "metadata": {},
   "outputs": [],
   "source": [
    "########################################################\n",
    "# YOUR CODE GOES HERE.                                 #\n",
    "########################################################"
   ]
  },
  {
   "cell_type": "markdown",
   "metadata": {},
   "source": [
    "___\n",
    "**5.** **(5 pontos)** Em Processamento de Imagens, a Morfologia Matemática e a rotulação de componentes conexas são técnicas poderosas para análise de estruturas em uma imagem. Uma aplicação interessante é a contagem de palavras em uma imagem contendo texto.\n",
    "\n",
    "Sua tarefa nesta questão é escrever um código Python que implemente o seguinte procedimento:\n",
    "\n",
    "1. Use técnicas de Morfologia Matemática para agrupar caracteres de uma mesma palavra imagem (utilize a imagem `text.tif`).\n",
    "2. Aplique a rotulação de componentes conexas para identificar cada palavra como um componente separado.\n",
    "3. Conte o número de componentes conexas, que corresponderá ao número de palavras na imagem.\n",
    "\n",
    "\n",
    "\n",
    "Dica: Você pode usar a função `skimage.measure.label` para a rotulação de componentes conexos.\n",
    "___\n"
   ]
  },
  {
   "cell_type": "code",
   "execution_count": 2,
   "metadata": {},
   "outputs": [],
   "source": [
    "########################################################\n",
    "# YOUR CODE GOES HERE.                                 #\n",
    "########################################################"
   ]
  }
 ],
 "metadata": {
  "kernelspec": {
   "display_name": "Python 3 (ipykernel)",
   "language": "python",
   "name": "python3"
  },
  "language_info": {
   "codemirror_mode": {
    "name": "ipython",
    "version": 3
   },
   "file_extension": ".py",
   "mimetype": "text/x-python",
   "name": "python",
   "nbconvert_exporter": "python",
   "pygments_lexer": "ipython3",
   "version": "3.10.12"
  },
  "orig_nbformat": 4
 },
 "nbformat": 4,
 "nbformat_minor": 2
}
